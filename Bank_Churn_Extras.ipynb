{
  "cells": [
    {
      "cell_type": "markdown",
      "metadata": {
        "id": "v33FD3XDjsA4"
      },
      "source": [
        "#Bank Churn prediction Model Improvement\n",
        "\n",
        "\n",
        "### **Objective**:\n",
        "\n",
        "The objective of this notebook is to provide information of the improvements that were attempted in improving the best model for Project_1, using differente architectures and techniques. \n",
        "\n",
        "A simplified version of the model is given for clarity and time purposes."
      ]
    },
    {
      "cell_type": "code",
      "execution_count": 1,
      "metadata": {
        "id": "HY01ZZdZkfA9"
      },
      "outputs": [],
      "source": [
        "# Libraries to help with reading and manipulating data\n",
        "import pandas as pd\n",
        "import numpy as np\n",
        "# Library to split data\n",
        "from sklearn.model_selection import train_test_split\n",
        "# Library to encode the variables\n",
        "from sklearn import preprocessing\n",
        "# To plot confusion matrix\n",
        "from sklearn.metrics import confusion_matrix\n",
        "# libaries to help with data visualization\n",
        "import matplotlib.pyplot as plt\n",
        "import seaborn as sns\n",
        "# library to import to standardize the data\n",
        "from sklearn.preprocessing import StandardScaler\n",
        "#To import different metrics \n",
        "from sklearn import metrics\n",
        "from tensorflow.keras import backend\n",
        "# Library to avoid the warnings\n",
        "import warnings\n",
        "warnings.filterwarnings(\"ignore\")\n",
        "# importing different functions to build models\n",
        "from tensorflow.keras.models import Sequential\n",
        "from tensorflow.keras.layers import Dense, Dropout\n",
        "from tensorflow.keras.wrappers.scikit_learn import KerasClassifier\n",
        "from tensorflow.keras.layers import Dense, Input, Dropout,BatchNormalization\n",
        "from tensorflow.keras import regularizers\n",
        "import tensorflow as tf\n",
        "# importing GridSearch CV\n",
        "from sklearn.model_selection import GridSearchCV"
      ]
    },
    {
      "cell_type": "code",
      "execution_count": 2,
      "metadata": {
        "colab": {
          "base_uri": "https://localhost:8080/"
        },
        "id": "5pg7jozxkhNC",
        "outputId": "bd8ae25a-2a23-404d-d63a-c564668df6b6"
      },
      "outputs": [
        {
          "name": "stdout",
          "output_type": "stream",
          "text": [
            "Mounted at /content/drive/\n"
          ]
        }
      ],
      "source": [
        "from google.colab import drive\n",
        "drive.mount('/content/drive/')"
      ]
    },
    {
      "cell_type": "markdown",
      "metadata": {
        "id": "wuo2QCrFmKk3"
      },
      "source": [
        "# Data Preparation"
      ]
    },
    {
      "cell_type": "code",
      "execution_count": 3,
      "metadata": {
        "id": "v77FvRS2kxnH"
      },
      "outputs": [],
      "source": [
        "#Read the data set \n",
        "ds = pd.read_csv(\"data.csv\")"
      ]
    },
    {
      "cell_type": "code",
      "execution_count": 4,
      "metadata": {
        "colab": {
          "base_uri": "https://localhost:8080/"
        },
        "id": "r5T7mYAmk8Ia",
        "outputId": "4149e460-410a-4e62-f786-d126b645559a"
      },
      "outputs": [
        {
          "data": {
            "text/plain": [
              "(10000, 14)"
            ]
          },
          "execution_count": 4,
          "metadata": {},
          "output_type": "execute_result"
        }
      ],
      "source": [
        "ds.shape"
      ]
    },
    {
      "cell_type": "code",
      "execution_count": 5,
      "metadata": {
        "id": "wzmFqkn5lchL"
      },
      "outputs": [],
      "source": [
        "# creating a copy of the data so that original data remains unchanged\n",
        "df = ds.copy()"
      ]
    },
    {
      "cell_type": "code",
      "execution_count": 6,
      "metadata": {
        "id": "NtvY3FMplpyn"
      },
      "outputs": [],
      "source": [
        "# RowNumber , CustomerId and Surname are unique hence drop them\n",
        "ds = ds.drop(['CustomerId', 'Surname', 'RowNumber'], axis=1) "
      ]
    },
    {
      "cell_type": "code",
      "execution_count": 7,
      "metadata": {
        "id": "_okY9_x4lwtN"
      },
      "outputs": [],
      "source": [
        "#Split features and target variables\n",
        "X = ds.drop(['Exited'],axis=1)  \n",
        "y = ds[['Exited']]      "
      ]
    },
    {
      "cell_type": "code",
      "execution_count": 8,
      "metadata": {
        "id": "cU79RqGWmVqM"
      },
      "outputs": [],
      "source": [
        "# Splitting the dataset into the Training and Testing set.\n",
        "\n",
        "X_large, X_test, y_large, y_test = train_test_split(X,y, test_size = 0.2, random_state = 42,stratify=y,shuffle = True) "
      ]
    },
    {
      "cell_type": "code",
      "execution_count": 9,
      "metadata": {
        "id": "ohEgG7l6maju"
      },
      "outputs": [],
      "source": [
        "# Splitting the dataset into the Training and Testing set.\n",
        "\n",
        "X_train, X_val, y_train, y_val = train_test_split(X_large,y_large, test_size = 0.2, random_state = 42,stratify=y_large, shuffle = True) "
      ]
    },
    {
      "cell_type": "code",
      "execution_count": 10,
      "metadata": {
        "colab": {
          "base_uri": "https://localhost:8080/"
        },
        "id": "IvfRmqtHmeh6",
        "outputId": "d239cad0-8adc-4c9e-8446-977a6f4087ab"
      },
      "outputs": [
        {
          "name": "stdout",
          "output_type": "stream",
          "text": [
            "Number of rows in train data = 6400\n",
            "Number of rows in train data = 1600\n",
            "Number of rows in test data = 2000\n"
          ]
        }
      ],
      "source": [
        "print(\"Number of rows in train data =\", X_train.shape[0])\n",
        "print(\"Number of rows in train data =\", X_val.shape[0])\n",
        "print(\"Number of rows in test data =\", X_test.shape[0])"
      ]
    },
    {
      "cell_type": "code",
      "execution_count": 11,
      "metadata": {
        "id": "ygDFuHhImiqT"
      },
      "outputs": [],
      "source": [
        "# Encoding Geography variable\n",
        "X_train = pd.get_dummies(X_train, columns=[\"Geography\",\"Gender\"],drop_first=True)\n",
        "X_test = pd.get_dummies(X_test, columns=[\"Geography\",\"Gender\"],drop_first=True)   \n",
        "X_val = pd.get_dummies(X_val, columns=[\"Geography\",\"Gender\"],drop_first=True)     "
      ]
    },
    {
      "cell_type": "code",
      "execution_count": 12,
      "metadata": {
        "id": "4-30TKvEmpHZ"
      },
      "outputs": [],
      "source": [
        "# Scaling the data with standardscaler\n",
        "sc=StandardScaler()\n",
        "temp = sc.fit(X_train[[\"CreditScore\",\"Age\",\"Tenure\",\"Balance\",\"EstimatedSalary\"]])\n",
        "X_train[[\"CreditScore\",\"Age\",\"Tenure\",\"Balance\",\"EstimatedSalary\"]] = temp.transform(X_train[[\"CreditScore\",\"Age\",\"Tenure\",\"Balance\",\"EstimatedSalary\"]])\n",
        "X_test[[\"CreditScore\",\"Age\",\"Tenure\",\"Balance\",\"EstimatedSalary\"]] = temp.transform(X_test[[\"CreditScore\",\"Age\",\"Tenure\",\"Balance\",\"EstimatedSalary\"]])\n",
        "X_val[[\"CreditScore\",\"Age\",\"Tenure\",\"Balance\",\"EstimatedSalary\"]] = temp.transform(X_val[[\"CreditScore\",\"Age\",\"Tenure\",\"Balance\",\"EstimatedSalary\"]])"
      ]
    },
    {
      "cell_type": "code",
      "execution_count": 13,
      "metadata": {
        "id": "UzNctg7Pp-6n"
      },
      "outputs": [],
      "source": [
        "#Function for plotting Confusion Matrix\n",
        "def make_confusion_matrix(cf,\n",
        "                          group_names=None,\n",
        "                          categories='auto',\n",
        "                          count=True,\n",
        "                          percent=True,\n",
        "                          cbar=True,\n",
        "                          xyticks=True,\n",
        "                          xyplotlabels=True,\n",
        "                          sum_stats=True,\n",
        "                          figsize=None,\n",
        "                          cmap='Blues',\n",
        "                          title=None):\n",
        "    '''\n",
        "    This function will make a pretty plot of an sklearn Confusion Matrix cm using a Seaborn heatmap visualization.\n",
        "    Arguments\n",
        "    '''\n",
        "\n",
        "\n",
        "    # CODE TO GENERATE TEXT INSIDE EACH SQUARE\n",
        "    blanks = ['' for i in range(cf.size)]\n",
        "\n",
        "    if group_names and len(group_names)==cf.size:\n",
        "        group_labels = [\"{}\\n\".format(value) for value in group_names]\n",
        "    else:\n",
        "        group_labels = blanks\n",
        "\n",
        "    if count:\n",
        "        group_counts = [\"{0:0.0f}\\n\".format(value) for value in cf.flatten()]\n",
        "    else:\n",
        "        group_counts = blanks\n",
        "\n",
        "    if percent:\n",
        "        group_percentages = [\"{0:.2%}\".format(value) for value in cf.flatten()/np.sum(cf)]\n",
        "    else:\n",
        "        group_percentages = blanks\n",
        "\n",
        "    box_labels = [f\"{v1}{v2}{v3}\".strip() for v1, v2, v3 in zip(group_labels,group_counts,group_percentages)]\n",
        "    box_labels = np.asarray(box_labels).reshape(cf.shape[0],cf.shape[1])\n",
        "\n",
        "\n",
        "    # CODE TO GENERATE SUMMARY STATISTICS & TEXT FOR SUMMARY STATS\n",
        "    if sum_stats:\n",
        "        #Accuracy is sum of diagonal divided by total observations\n",
        "        accuracy  = np.trace(cf) / float(np.sum(cf))\n",
        "\n",
        "        #if it is a binary confusion matrix, show some more stats\n",
        "        if len(cf)==2:\n",
        "            #Metrics for Binary Confusion Matrices\n",
        "            precision = cf[1,1] / sum(cf[:,1])\n",
        "            recall    = cf[1,1] / sum(cf[1,:])\n",
        "            f1_score  = 2*precision*recall / (precision + recall)\n",
        "            stats_text = \"\\n\\nAccuracy={:0.3f}\\nPrecision={:0.3f}\\nRecall={:0.3f}\\nF1 Score={:0.3f}\".format(\n",
        "                accuracy,precision,recall,f1_score)\n",
        "        else:\n",
        "            stats_text = \"\\n\\nAccuracy={:0.3f}\".format(accuracy)\n",
        "    else:\n",
        "        stats_text = \"\"\n",
        "\n",
        "\n",
        "    # SET FIGURE PARAMETERS ACCORDING TO OTHER ARGUMENTS\n",
        "    if figsize==None:\n",
        "        #Get default figure size if not set\n",
        "        figsize = plt.rcParams.get('figure.figsize')\n",
        "\n",
        "    if xyticks==False:\n",
        "        #Do not show categories if xyticks is False\n",
        "        categories=False\n",
        "\n",
        "\n",
        "    # MAKE THE HEATMAP VISUALIZATION\n",
        "    plt.figure(figsize=figsize)\n",
        "    sns.heatmap(cf,annot=box_labels,fmt=\"\",cmap=cmap,cbar=cbar,xticklabels=categories,yticklabels=categories)\n",
        "\n",
        "    if xyplotlabels:\n",
        "        plt.ylabel('True label')\n",
        "        plt.xlabel('Predicted label' + stats_text)\n",
        "    else:\n",
        "        plt.xlabel(stats_text)\n",
        "    \n",
        "    if title:\n",
        "        plt.title(title)"
      ]
    },
    {
      "cell_type": "markdown",
      "metadata": {
        "id": "c9Ej1kc3m376"
      },
      "source": [
        "## Model Building and Improvement. \n",
        "\n",
        "- In this section we take as a baseline model, Model 3 from the Project 1 and we will try different architectures and techniques to see if we can improve it.\n"
      ]
    },
    {
      "cell_type": "code",
      "execution_count": 14,
      "metadata": {
        "id": "J1XCmzyWncBr"
      },
      "outputs": [],
      "source": [
        "backend.clear_session()\n",
        "#Fixing the seed for random number generators so that we can ensure we receive the same output everytime\n",
        "np.random.seed(2)\n",
        "import random\n",
        "random.seed(2)\n",
        "tf.random.set_seed(2)"
      ]
    },
    {
      "cell_type": "code",
      "execution_count": 15,
      "metadata": {
        "id": "k0B3LJvBneYJ"
      },
      "outputs": [],
      "source": [
        "#Initializing the neural network\n",
        "model_3 = Sequential()\n",
        "\n",
        "model_3.add(Dense(32,activation='relu',input_dim = X_train.shape[1]))\n",
        "model_3.add(Dropout(0.2))\n",
        "model_3.add(Dense(16,activation='relu'))\n",
        "model_3.add(Dropout(0.1))\n",
        "model_3.add(Dense(8,activation='relu'))\n",
        "\n",
        "model_3.add(Dense(1, activation = 'sigmoid'))"
      ]
    },
    {
      "cell_type": "code",
      "execution_count": 16,
      "metadata": {
        "id": "pcfc_AytnxYO"
      },
      "outputs": [],
      "source": [
        "# Initialize and compile model \n",
        "\n",
        "optimizer = tf.keras.optimizers.Adam(0.001)\n",
        "model_3.compile(loss='binary_crossentropy',optimizer=optimizer,metrics=['accuracy'])"
      ]
    },
    {
      "cell_type": "code",
      "execution_count": 17,
      "metadata": {
        "id": "lpurBY1DoOVS"
      },
      "outputs": [],
      "source": [
        "# Defining Early stopping\n",
        "from keras import callbacks \n",
        "es_cb = callbacks.EarlyStopping(monitor='val_loss', min_delta=0.001, patience=5)"
      ]
    },
    {
      "cell_type": "code",
      "execution_count": 18,
      "metadata": {
        "id": "H1fusfEAoZKl"
      },
      "outputs": [],
      "source": [
        "# Fit the model \n",
        "history_3 = model_3.fit(X_train,y_train,batch_size=32,epochs=100,verbose=0,validation_data=(X_val,y_val),callbacks=[es_cb])"
      ]
    },
    {
      "cell_type": "code",
      "execution_count": 19,
      "metadata": {
        "colab": {
          "base_uri": "https://localhost:8080/",
          "height": 295
        },
        "id": "bFOO60a7on9B",
        "outputId": "d378d73c-7fcc-4ed7-9770-19e86a8aa3bc"
      },
      "outputs": [
        {
          "data": {
            "image/png": "[encoded data removed]",
            "text/plain": [
              "<Figure size 432x288 with 1 Axes>"
            ]
          },
          "metadata": {
            "needs_background": "light"
          },
          "output_type": "display_data"
        }
      ],
      "source": [
        "# Plot the Loss \n",
        "plt.plot(history_3.history['loss'])\n",
        "plt.plot(history_3.history['val_loss'])\n",
        "plt.title('model loss')\n",
        "plt.ylabel('Loss')\n",
        "plt.xlabel('Epoch')\n",
        "plt.legend(['train', 'validation'], loc='upper left')\n",
        "plt.show()"
      ]
    },
    {
      "cell_type": "code",
      "execution_count": 20,
      "metadata": {
        "colab": {
          "base_uri": "https://localhost:8080/",
          "height": 314
        },
        "id": "57ZhwRrXo8EG",
        "outputId": "fb5af389-81d2-434b-fc1d-1ead1b8b0eb0"
      },
      "outputs": [
        {
          "name": "stdout",
          "output_type": "stream",
          "text": [
            "200/200 [==============================] - 0s 2ms/step\n",
            "Best Threshold=0.197977, G-Mean=0.794\n"
          ]
        },
        {
          "data": {
            "image/png": "[encoded data removed]",
            "text/plain": [
              "<Figure size 432x288 with 1 Axes>"
            ]
          },
          "metadata": {
            "needs_background": "light"
          },
          "output_type": "display_data"
        }
      ],
      "source": [
        "# Balance performance classification threshold with ROC curves\n",
        "\n",
        "from sklearn.metrics import roc_curve\n",
        "from matplotlib import pyplot\n",
        "\n",
        "# predict probabilities\n",
        "yhat = model_3.predict(X_train)\n",
        "# keep probabilities for the positive outcome only\n",
        "yhat = yhat[:, 0]\n",
        "# calculate roc curves\n",
        "fpr, tpr, thresholds = roc_curve(y_train, yhat)\n",
        "# calculate the g-mean for each threshold\n",
        "gmeans = np.sqrt(tpr * (1-fpr))\n",
        "# locate the index of the largest g-mean\n",
        "ix = np.argmax(gmeans)\n",
        "print('Best Threshold=%f, G-Mean=%.3f' % (thresholds[ix], gmeans[ix]))\n",
        "# plot the roc curve for the model\n",
        "pyplot.plot([0,1], [0,1], linestyle='--', label='No Skill')\n",
        "pyplot.plot(fpr, tpr, marker='.', label='Logistic')\n",
        "pyplot.scatter(fpr[ix], tpr[ix], marker='o', color='black', label='Best')\n",
        "# axis labels\n",
        "pyplot.xlabel('False Positive Rate')\n",
        "pyplot.ylabel('True Positive Rate')\n",
        "pyplot.legend()\n",
        "# show the plot\n",
        "pyplot.show()"
      ]
    },
    {
      "cell_type": "code",
      "execution_count": 21,
      "metadata": {
        "colab": {
          "base_uri": "https://localhost:8080/"
        },
        "id": "4hGhe6T1pR6m",
        "outputId": "89db6485-9069-49a1-d789-0d86808f9034"
      },
      "outputs": [
        {
          "name": "stdout",
          "output_type": "stream",
          "text": [
            "50/50 [==============================] - 0s 1ms/step\n"
          ]
        }
      ],
      "source": [
        "#Predicting the results using best as a threshold\n",
        "y_pred_e=model_3.predict(X_val)\n",
        "y_pred_3 = (y_pred_e > thresholds[ix])"
      ]
    },
    {
      "cell_type": "code",
      "execution_count": 22,
      "metadata": {
        "colab": {
          "base_uri": "https://localhost:8080/",
          "height": 494
        },
        "id": "K7F85x3rpeQj",
        "outputId": "e6001c0d-4bc4-46a8-b721-a87d19e2fc81"
      },
      "outputs": [
        {
          "name": "stdout",
          "output_type": "stream",
          "text": [
            "              precision    recall  f1-score   support\n",
            "\n",
            "           0       0.92      0.82      0.87      1274\n",
            "           1       0.51      0.74      0.60       326\n",
            "\n",
            "    accuracy                           0.80      1600\n",
            "   macro avg       0.71      0.78      0.73      1600\n",
            "weighted avg       0.84      0.80      0.81      1600\n",
            "\n"
          ]
        },
        {
          "data": {
            "image/png": "[encoded data removed]",
            "text/plain": [
              "<Figure size 432x288 with 2 Axes>"
            ]
          },
          "metadata": {
            "needs_background": "light"
          },
          "output_type": "display_data"
        }
      ],
      "source": [
        "# Plot Confusion Matrix and Classification report\n",
        "\n",
        "cm1=confusion_matrix(y_val, y_pred_3)\n",
        "labels = ['True Negative','False Positive','False Negative','True Positive']\n",
        "categories = [ 'Not_Exited','Exited']\n",
        "make_confusion_matrix(cm1, \n",
        "                      group_names=labels,\n",
        "                      categories=categories, \n",
        "                      cmap='Reds')\n",
        "cr=metrics.classification_report(y_val,y_pred_3)\n",
        "print(cr)"
      ]
    },
    {
      "cell_type": "markdown",
      "metadata": {
        "id": "Eh6od0YJrE_R"
      },
      "source": [
        "# Model 2"
      ]
    },
    {
      "cell_type": "code",
      "execution_count": 23,
      "metadata": {
        "id": "SIAsF9AFrQbH"
      },
      "outputs": [],
      "source": [
        "backend.clear_session()\n",
        "#Fixing the seed for random number generators so that we can ensure we receive the same output everytime\n",
        "np.random.seed(2)\n",
        "import random\n",
        "random.seed(2)\n",
        "tf.random.set_seed(2)"
      ]
    },
    {
      "cell_type": "code",
      "execution_count": 24,
      "metadata": {
        "id": "dll3gvvrrU8Z"
      },
      "outputs": [],
      "source": [
        "#Initializing the neural network\n",
        "model_2 = Sequential()\n",
        "\n",
        "model_2.add(Dense(64,activation='relu',input_dim = X_train.shape[1]))\n",
        "model_2.add(Dropout(0.3))\n",
        "model_2.add(Dense(16,activation='relu', kernel_initializer = 'he_normal'))\n",
        "model_2.add(Dropout(0.3))\n",
        "model_2.add(Dense(8,activation='relu', kernel_initializer = 'he_normal'))\n",
        "model_2.add(Dense(1, activation = 'sigmoid'))"
      ]
    },
    {
      "cell_type": "code",
      "execution_count": 25,
      "metadata": {
        "id": "2Wy4b80JtfvB"
      },
      "outputs": [],
      "source": [
        "optimizer = tf.keras.optimizers.Adam(0.001)\n",
        "model_2.compile(loss='binary_crossentropy',optimizer=optimizer,metrics=['accuracy'])"
      ]
    },
    {
      "cell_type": "code",
      "execution_count": 26,
      "metadata": {
        "id": "L3FS5PcGtsQS"
      },
      "outputs": [],
      "source": [
        "# Defining Early stopping\n",
        "from keras import callbacks \n",
        "es_cb = callbacks.EarlyStopping(monitor='val_loss', min_delta=0.001, patience=5)"
      ]
    },
    {
      "cell_type": "code",
      "execution_count": 27,
      "metadata": {
        "id": "OFN-ixs7tu5j"
      },
      "outputs": [],
      "source": [
        "# Fit the model \n",
        "history_2 = model_2.fit(X_train,y_train,batch_size=128,epochs=100,verbose=0,validation_data=(X_val,y_val),callbacks=[es_cb])"
      ]
    },
    {
      "cell_type": "code",
      "execution_count": 28,
      "metadata": {
        "colab": {
          "base_uri": "https://localhost:8080/",
          "height": 295
        },
        "id": "pFFrxxx3uGmB",
        "outputId": "b5044f36-89fe-440c-d9cf-e4468153e51e"
      },
      "outputs": [
        {
          "data": {
            "image/png": "[encoded data removed]",
            "text/plain": [
              "<Figure size 432x288 with 1 Axes>"
            ]
          },
          "metadata": {
            "needs_background": "light"
          },
          "output_type": "display_data"
        }
      ],
      "source": [
        "# Plot the Loss \n",
        "plt.plot(history_2.history['loss'])\n",
        "plt.plot(history_2.history['val_loss'])\n",
        "plt.title('model loss')\n",
        "plt.ylabel('Loss')\n",
        "plt.xlabel('Epoch')\n",
        "plt.legend(['train', 'validation'], loc='upper left')\n",
        "plt.show()"
      ]
    },
    {
      "cell_type": "code",
      "execution_count": 29,
      "metadata": {
        "colab": {
          "base_uri": "https://localhost:8080/",
          "height": 314
        },
        "id": "oJLlgUojusxd",
        "outputId": "b6f4cca3-7bfc-4a53-d829-94eec8f24f25"
      },
      "outputs": [
        {
          "name": "stdout",
          "output_type": "stream",
          "text": [
            "200/200 [==============================] - 0s 1ms/step\n",
            "Best Threshold=0.224220, G-Mean=0.798\n"
          ]
        },
        {
          "data": {
            "image/png": "[encoded data removed]",
            "text/plain": [
              "<Figure size 432x288 with 1 Axes>"
            ]
          },
          "metadata": {
            "needs_background": "light"
          },
          "output_type": "display_data"
        }
      ],
      "source": [
        "# Balance performance classification threshold with ROC curves\n",
        "\n",
        "from sklearn.metrics import roc_curve\n",
        "from matplotlib import pyplot\n",
        "\n",
        "# predict probabilities\n",
        "yhat = model_2.predict(X_train)\n",
        "# keep probabilities for the positive outcome only\n",
        "yhat = yhat[:, 0]\n",
        "# calculate roc curves\n",
        "fpr, tpr, thresholds = roc_curve(y_train, yhat)\n",
        "# calculate the g-mean for each threshold\n",
        "gmeans = np.sqrt(tpr * (1-fpr))\n",
        "# locate the index of the largest g-mean\n",
        "ix = np.argmax(gmeans)\n",
        "print('Best Threshold=%f, G-Mean=%.3f' % (thresholds[ix], gmeans[ix]))\n",
        "# plot the roc curve for the model\n",
        "pyplot.plot([0,1], [0,1], linestyle='--', label='No Skill')\n",
        "pyplot.plot(fpr, tpr, marker='.', label='Logistic')\n",
        "pyplot.scatter(fpr[ix], tpr[ix], marker='o', color='black', label='Best')\n",
        "# axis labels\n",
        "pyplot.xlabel('False Positive Rate')\n",
        "pyplot.ylabel('True Positive Rate')\n",
        "pyplot.legend()\n",
        "# show the plot\n",
        "pyplot.show()"
      ]
    },
    {
      "cell_type": "code",
      "execution_count": 30,
      "metadata": {
        "colab": {
          "base_uri": "https://localhost:8080/"
        },
        "id": "ymAkUVYK3YKd",
        "outputId": "3439a491-ee90-4df4-97b9-e7b719513a8b"
      },
      "outputs": [
        {
          "name": "stdout",
          "output_type": "stream",
          "text": [
            "50/50 [==============================] - 0s 1ms/step\n"
          ]
        }
      ],
      "source": [
        "#Predicting the results using best as a threshold\n",
        "y_pred_e=model_2.predict(X_val)\n",
        "y_pred_2 = (y_pred_e > thresholds[ix])"
      ]
    },
    {
      "cell_type": "code",
      "execution_count": 31,
      "metadata": {
        "colab": {
          "base_uri": "https://localhost:8080/",
          "height": 494
        },
        "id": "73ehJ-Kxuu8C",
        "outputId": "9b696abc-a30d-4b95-f569-6df36622993d"
      },
      "outputs": [
        {
          "name": "stdout",
          "output_type": "stream",
          "text": [
            "              precision    recall  f1-score   support\n",
            "\n",
            "           0       0.93      0.80      0.86      1274\n",
            "           1       0.49      0.75      0.59       326\n",
            "\n",
            "    accuracy                           0.79      1600\n",
            "   macro avg       0.71      0.78      0.73      1600\n",
            "weighted avg       0.84      0.79      0.80      1600\n",
            "\n"
          ]
        },
        {
          "data": {
            "image/png": "[encoded data removed]",
            "text/plain": [
              "<Figure size 432x288 with 2 Axes>"
            ]
          },
          "metadata": {
            "needs_background": "light"
          },
          "output_type": "display_data"
        }
      ],
      "source": [
        "# Plot Confusion Matrix and Classification report\n",
        "\n",
        "cm1=confusion_matrix(y_val, y_pred_2)\n",
        "labels = ['True Negative','False Positive','False Negative','True Positive']\n",
        "categories = [ 'Not_Exited','Exited']\n",
        "make_confusion_matrix(cm1, \n",
        "                      group_names=labels,\n",
        "                      categories=categories, \n",
        "                      cmap='Reds')\n",
        "cr=metrics.classification_report(y_val,y_pred_2)\n",
        "print(cr)"
      ]
    },
    {
      "cell_type": "markdown",
      "metadata": {
        "id": "j3jLmgFaONpK"
      },
      "source": [
        "# Predict the test data X_test"
      ]
    },
    {
      "cell_type": "code",
      "execution_count": 68,
      "metadata": {
        "colab": {
          "base_uri": "https://localhost:8080/",
          "height": 314
        },
        "id": "fnquHs03OXwn",
        "outputId": "ee0f4b0e-50c3-4d7a-8176-8c363d04a64e"
      },
      "outputs": [
        {
          "name": "stdout",
          "output_type": "stream",
          "text": [
            "200/200 [==============================] - 0s 2ms/step\n",
            "Best Threshold=0.224220, G-Mean=0.798\n"
          ]
        },
        {
          "data": {
            "image/png": "[encoded data removed]",
            "text/plain": [
              "<Figure size 432x288 with 1 Axes>"
            ]
          },
          "metadata": {
            "needs_background": "light"
          },
          "output_type": "display_data"
        }
      ],
      "source": [
        "from sklearn.metrics import roc_curve\n",
        "\n",
        "from matplotlib import pyplot\n",
        "\n",
        "\n",
        "# predict probabilities using the best model\n",
        "yhat = model_2.predict(X_train)\n",
        "# keep probabilities for the positive outcome only\n",
        "yhat = yhat[:, 0]\n",
        "# calculate roc curves\n",
        "fpr, tpr, thresholds = roc_curve(y_train, yhat)\n",
        "# calculate the g-mean for each threshold\n",
        "gmeans = np.sqrt(tpr * (1-fpr))\n",
        "# locate the index of the largest g-mean\n",
        "ix = np.argmax(gmeans)\n",
        "print('Best Threshold=%f, G-Mean=%.3f' % (thresholds[ix], gmeans[ix]))\n",
        "# plot the roc curve for the model\n",
        "pyplot.plot([0,1], [0,1], linestyle='--', label='No Skill')\n",
        "pyplot.plot(fpr, tpr, marker='.', label='Logistic')\n",
        "pyplot.scatter(fpr[ix], tpr[ix], marker='o', color='black', label='Best')\n",
        "# axis labels\n",
        "pyplot.xlabel('False Positive Rate')\n",
        "pyplot.ylabel('True Positive Rate')\n",
        "pyplot.legend()\n",
        "# show the plot\n",
        "pyplot.show()"
      ]
    },
    {
      "cell_type": "code",
      "execution_count": 69,
      "metadata": {
        "colab": {
          "base_uri": "https://localhost:8080/",
          "height": 512
        },
        "id": "qiZw4snEOi6X",
        "outputId": "0ce7e29c-11fe-4a9e-c4c7-ba96a4822ab2"
      },
      "outputs": [
        {
          "name": "stdout",
          "output_type": "stream",
          "text": [
            "63/63 [==============================] - 0s 2ms/step\n",
            "              precision    recall  f1-score   support\n",
            "\n",
            "           0       0.93      0.79      0.85      1593\n",
            "           1       0.48      0.76      0.59       407\n",
            "\n",
            "    accuracy                           0.78      2000\n",
            "   macro avg       0.70      0.78      0.72      2000\n",
            "weighted avg       0.84      0.78      0.80      2000\n",
            "\n"
          ]
        },
        {
          "data": {
            "image/png": "[encoded data removed]",
            "text/plain": [
              "<Figure size 432x288 with 2 Axes>"
            ]
          },
          "metadata": {
            "needs_background": "light"
          },
          "output_type": "display_data"
        }
      ],
      "source": [
        "#Predicting and ploting results\n",
        "\n",
        "y_pred_test = model_2.predict(X_test)\n",
        "y_pred_test = (y_pred_test > thresholds[ix])\n",
        "cm1=confusion_matrix(y_test, y_pred_test)\n",
        "labels = ['True Negative','False Positive','False Negative','True Positive']\n",
        "categories = [ 'Not_Exited','Exited']\n",
        "make_confusion_matrix(cm1, \n",
        "                      group_names=labels,\n",
        "                      categories=categories, \n",
        "                      cmap='Reds')\n",
        "cr=metrics.classification_report(y_test,y_pred_test)\n",
        "print(cr)"
      ]
    },
    {
      "cell_type": "code",
      "execution_count": 33,
      "metadata": {
        "colab": {
          "base_uri": "https://localhost:8080/"
        },
        "id": "A5J4cBwv8UR-",
        "outputId": "5160c91f-1b74-4382-f20b-f6f9b8e378de"
      },
      "outputs": [
        {
          "name": "stdout",
          "output_type": "stream",
          "text": [
            "Looking in indexes: https://pypi.org/simple, https://us-python.pkg.dev/colab-wheels/public/simple/\n",
            "Collecting shap\n",
            "  Downloading shap-0.41.0-cp37-cp37m-manylinux_2_12_x86_64.manylinux2010_x86_64.whl (569 kB)\n",
            "\u001b[K     |████████████████████████████████| 569 kB 5.1 MB/s \n",
            "\u001b[?25hRequirement already satisfied: numba in /usr/local/lib/python3.7/dist-packages (from shap) (0.56.4)\n",
            "Requirement already satisfied: pandas in /usr/local/lib/python3.7/dist-packages (from shap) (1.3.5)\n",
            "Requirement already satisfied: packaging>20.9 in /usr/local/lib/python3.7/dist-packages (from shap) (21.3)\n",
            "Requirement already satisfied: tqdm>4.25.0 in /usr/local/lib/python3.7/dist-packages (from shap) (4.64.1)\n",
            "Requirement already satisfied: scipy in /usr/local/lib/python3.7/dist-packages (from shap) (1.7.3)\n",
            "Requirement already satisfied: numpy in /usr/local/lib/python3.7/dist-packages (from shap) (1.21.6)\n",
            "Collecting slicer==0.0.7\n",
            "  Downloading slicer-0.0.7-py3-none-any.whl (14 kB)\n",
            "Requirement already satisfied: cloudpickle in /usr/local/lib/python3.7/dist-packages (from shap) (1.5.0)\n",
            "Requirement already satisfied: scikit-learn in /usr/local/lib/python3.7/dist-packages (from shap) (1.0.2)\n",
            "Requirement already satisfied: pyparsing!=3.0.5,>=2.0.2 in /usr/local/lib/python3.7/dist-packages (from packaging>20.9->shap) (3.0.9)\n",
            "Requirement already satisfied: setuptools in /usr/local/lib/python3.7/dist-packages (from numba->shap) (57.4.0)\n",
            "Requirement already satisfied: llvmlite<0.40,>=0.39.0dev0 in /usr/local/lib/python3.7/dist-packages (from numba->shap) (0.39.1)\n",
            "Requirement already satisfied: importlib-metadata in /usr/local/lib/python3.7/dist-packages (from numba->shap) (4.13.0)\n",
            "Requirement already satisfied: typing-extensions>=3.6.4 in /usr/local/lib/python3.7/dist-packages (from importlib-metadata->numba->shap) (4.1.1)\n",
            "Requirement already satisfied: zipp>=0.5 in /usr/local/lib/python3.7/dist-packages (from importlib-metadata->numba->shap) (3.10.0)\n",
            "Requirement already satisfied: pytz>=2017.3 in /usr/local/lib/python3.7/dist-packages (from pandas->shap) (2022.6)\n",
            "Requirement already satisfied: python-dateutil>=2.7.3 in /usr/local/lib/python3.7/dist-packages (from pandas->shap) (2.8.2)\n",
            "Requirement already satisfied: six>=1.5 in /usr/local/lib/python3.7/dist-packages (from python-dateutil>=2.7.3->pandas->shap) (1.15.0)\n",
            "Requirement already satisfied: threadpoolctl>=2.0.0 in /usr/local/lib/python3.7/dist-packages (from scikit-learn->shap) (3.1.0)\n",
            "Requirement already satisfied: joblib>=0.11 in /usr/local/lib/python3.7/dist-packages (from scikit-learn->shap) (1.2.0)\n",
            "Installing collected packages: slicer, shap\n",
            "Successfully installed shap-0.41.0 slicer-0.0.7\n"
          ]
        }
      ],
      "source": [
        "pip install shap\n"
      ]
    },
    {
      "cell_type": "code",
      "execution_count": 34,
      "metadata": {
        "id": "9I5JTcN28fWk"
      },
      "outputs": [],
      "source": [
        "import shap"
      ]
    },
    {
      "cell_type": "code",
      "execution_count": 36,
      "metadata": {
        "colab": {
          "base_uri": "https://localhost:8080/"
        },
        "id": "7COIi2rp8qyW",
        "outputId": "1b7d137f-036b-4753-c6c4-d8a284a314a0"
      },
      "outputs": [
        {
          "data": {
            "text/plain": [
              "(6400, 11)"
            ]
          },
          "execution_count": 36,
          "metadata": {},
          "output_type": "execute_result"
        }
      ],
      "source": [
        "X_train.shape"
      ]
    },
    {
      "cell_type": "code",
      "execution_count": 37,
      "metadata": {
        "id": "EreHVmzD87hI"
      },
      "outputs": [],
      "source": [
        "#Take a sample of train data, because if you use all the data it could cause slower run times\n",
        "background = X_train.sample(n = 1000)"
      ]
    },
    {
      "cell_type": "code",
      "execution_count": 38,
      "metadata": {
        "colab": {
          "base_uri": "https://localhost:8080/"
        },
        "id": "GTFYUg568_Q4",
        "outputId": "66d42ee0-fcb4-4e8d-f110-0f141f2848bc"
      },
      "outputs": [
        {
          "name": "stdout",
          "output_type": "stream",
          "text": [
            "32/32 [==============================] - 0s 1ms/step\n"
          ]
        },
        {
          "name": "stderr",
          "output_type": "stream",
          "text": [
            "WARNING:shap:Using 1000 background data samples could cause slower run times. Consider using shap.sample(data, K) or shap.kmeans(data, K) to summarize the background as K samples.\n"
          ]
        }
      ],
      "source": [
        "#Applying shap import shap\n",
        "explainer = shap.KernelExplainer(model_2.predict,background)"
      ]
    },
    {
      "cell_type": "code",
      "execution_count": 39,
      "metadata": {
        "id": "dfaPVRD89sYq"
      },
      "outputs": [],
      "source": [
        "X_test_shap = X_test.sample(n=100)"
      ]
    },
    {
      "cell_type": "code",
      "execution_count": 40,
      "metadata": {
        "colab": {
          "base_uri": "https://localhost:8080/",
          "height": 1000,
          "referenced_widgets": [
            "2c0db75a78fe40a3bcefd5f7f6325233",
            "450d4a7e92b745b09af2ee82d6218cb0",
            "54d845112d1242708cfc1d414df90c28",
            "da42fb51b61d4d7f9ea57a016e4a8bf7",
            "25799a015de94867b57edee4bd6b85a2",
            "fa8b7b34b6f94d5d9b9cab4b744c92dd",
            "017ad869a0814440af6006ae684d7d79",
            "19021de58c334e7b818cfcf7b7ec53b1",
            "654f6ab0cdb0473086b31724829c95f0",
            "9d6b83fe32914ec3bbfd399f56cce062",
            "b3b62f7c8ccd4c0c949a85401a4a55ac"
          ]
        },
        "id": "I8BYaWtS9876",
        "outputId": "ba0f1c3e-8c9e-4ebd-e375-1a4e4214d03c"
      },
      "outputs": [
        {
          "data": {
            "application/vnd.jupyter.widget-view+json": {
              "model_id": "2c0db75a78fe40a3bcefd5f7f6325233",
              "version_major": 2,
              "version_minor": 0
            },
            "text/plain": [
              "  0%|          | 0/100 [00:00<?, ?it/s]"
            ]
          },
          "metadata": {},
          "output_type": "display_data"
        },
        {
          "name": "stdout",
          "output_type": "stream",
          "text": [
            "1/1 [==============================] - 0s 28ms/step\n",
            "3125/3125 [==============================] - 5s 2ms/step\n",
            "1/1 [==============================] - 0s 18ms/step\n",
            "3125/3125 [==============================] - 5s 2ms/step\n",
            "1/1 [==============================] - 0s 18ms/step\n",
            "3125/3125 [==============================] - 5s 2ms/step\n",
            "1/1 [==============================] - 0s 19ms/step\n",
            "3125/3125 [==============================] - 5s 2ms/step\n",
            "1/1 [==============================] - 0s 19ms/step\n",
            "3125/3125 [==============================] - 5s 2ms/step\n",
            "1/1 [==============================] - 0s 18ms/step\n",
            "3125/3125 [==============================] - 5s 2ms/step\n",
            "1/1 [==============================] - 0s 19ms/step\n",
            "3125/3125 [==============================] - 5s 2ms/step\n",
            "1/1 [==============================] - 0s 18ms/step\n",
            "3125/3125 [==============================] - 5s 2ms/step\n",
            "1/1 [==============================] - 0s 22ms/step\n",
            "3125/3125 [==============================] - 5s 2ms/step\n",
            "1/1 [==============================] - 0s 21ms/step\n",
            "3125/3125 [==============================] - 5s 2ms/step\n",
            "1/1 [==============================] - 0s 19ms/step\n",
            "3125/3125 [==============================] - 6s 2ms/step\n",
            "1/1 [==============================] - 0s 19ms/step\n",
            "3125/3125 [==============================] - 5s 2ms/step\n",
            "1/1 [==============================] - 0s 18ms/step\n",
            "3125/3125 [==============================] - 5s 2ms/step\n",
            "1/1 [==============================] - 0s 18ms/step\n",
            "3125/3125 [==============================] - 5s 2ms/step\n",
            "1/1 [==============================] - 0s 17ms/step\n",
            "3125/3125 [==============================] - 5s 2ms/step\n",
            "1/1 [==============================] - 0s 19ms/step\n",
            "3125/3125 [==============================] - 5s 2ms/step\n",
            "1/1 [==============================] - 0s 19ms/step\n",
            "3125/3125 [==============================] - 5s 2ms/step\n",
            "1/1 [==============================] - 0s 19ms/step\n",
            "3125/3125 [==============================] - 7s 2ms/step\n",
            "1/1 [==============================] - 0s 24ms/step\n",
            "3125/3125 [==============================] - 5s 2ms/step\n",
            "1/1 [==============================] - 0s 22ms/step\n",
            "3125/3125 [==============================] - 5s 2ms/step\n",
            "1/1 [==============================] - 0s 18ms/step\n",
            "3125/3125 [==============================] - 5s 2ms/step\n",
            "1/1 [==============================] - 0s 18ms/step\n",
            "3125/3125 [==============================] - 5s 2ms/step\n",
            "1/1 [==============================] - 0s 19ms/step\n",
            "3125/3125 [==============================] - 5s 2ms/step\n",
            "1/1 [==============================] - 0s 20ms/step\n",
            "3125/3125 [==============================] - 5s 2ms/step\n",
            "1/1 [==============================] - 0s 22ms/step\n",
            "3125/3125 [==============================] - 5s 2ms/step\n",
            "1/1 [==============================] - 0s 19ms/step\n",
            "3125/3125 [==============================] - 5s 2ms/step\n",
            "1/1 [==============================] - 0s 20ms/step\n",
            "3125/3125 [==============================] - 5s 2ms/step\n",
            "1/1 [==============================] - 0s 19ms/step\n",
            "3125/3125 [==============================] - 5s 2ms/step\n",
            "1/1 [==============================] - 0s 19ms/step\n",
            "3125/3125 [==============================] - 5s 2ms/step\n",
            "1/1 [==============================] - 0s 18ms/step\n",
            "3125/3125 [==============================] - 5s 2ms/step\n",
            "1/1 [==============================] - 0s 20ms/step\n",
            "3125/3125 [==============================] - 5s 2ms/step\n",
            "1/1 [==============================] - 0s 17ms/step\n",
            "3125/3125 [==============================] - 5s 2ms/step\n",
            "1/1 [==============================] - 0s 17ms/step\n",
            "3125/3125 [==============================] - 5s 2ms/step\n",
            "1/1 [==============================] - 0s 17ms/step\n",
            "3125/3125 [==============================] - 5s 2ms/step\n",
            "1/1 [==============================] - 0s 20ms/step\n",
            "3125/3125 [==============================] - 5s 2ms/step\n",
            "1/1 [==============================] - 0s 19ms/step\n",
            "3125/3125 [==============================] - 5s 2ms/step\n",
            "1/1 [==============================] - 0s 17ms/step\n",
            "3125/3125 [==============================] - 5s 2ms/step\n",
            "1/1 [==============================] - 0s 23ms/step\n",
            "3125/3125 [==============================] - 5s 2ms/step\n",
            "1/1 [==============================] - 0s 18ms/step\n",
            "3125/3125 [==============================] - 5s 2ms/step\n",
            "1/1 [==============================] - 0s 18ms/step\n",
            "3125/3125 [==============================] - 5s 2ms/step\n",
            "1/1 [==============================] - 0s 18ms/step\n",
            "3125/3125 [==============================] - 5s 2ms/step\n",
            "1/1 [==============================] - 0s 18ms/step\n",
            "3125/3125 [==============================] - 5s 2ms/step\n",
            "1/1 [==============================] - 0s 18ms/step\n",
            "3125/3125 [==============================] - 5s 2ms/step\n",
            "1/1 [==============================] - 0s 18ms/step\n",
            "3125/3125 [==============================] - 5s 2ms/step\n",
            "1/1 [==============================] - 0s 19ms/step\n",
            "3125/3125 [==============================] - 5s 2ms/step\n",
            "1/1 [==============================] - 0s 18ms/step\n",
            "3125/3125 [==============================] - 5s 2ms/step\n",
            "1/1 [==============================] - 0s 19ms/step\n",
            "3125/3125 [==============================] - 5s 2ms/step\n",
            "1/1 [==============================] - 0s 17ms/step\n",
            "3125/3125 [==============================] - 5s 2ms/step\n",
            "1/1 [==============================] - 0s 18ms/step\n",
            "3125/3125 [==============================] - 5s 2ms/step\n",
            "1/1 [==============================] - 0s 23ms/step\n",
            "3125/3125 [==============================] - 5s 2ms/step\n",
            "1/1 [==============================] - 0s 18ms/step\n",
            "3125/3125 [==============================] - 5s 2ms/step\n",
            "1/1 [==============================] - 0s 18ms/step\n",
            "3125/3125 [==============================] - 5s 2ms/step\n",
            "1/1 [==============================] - 0s 18ms/step\n",
            "3125/3125 [==============================] - 5s 2ms/step\n",
            "1/1 [==============================] - 0s 17ms/step\n",
            "3125/3125 [==============================] - 5s 2ms/step\n",
            "1/1 [==============================] - 0s 20ms/step\n",
            "3125/3125 [==============================] - 5s 2ms/step\n",
            "1/1 [==============================] - 0s 20ms/step\n",
            "3125/3125 [==============================] - 5s 2ms/step\n",
            "1/1 [==============================] - 0s 19ms/step\n",
            "3125/3125 [==============================] - 5s 2ms/step\n",
            "1/1 [==============================] - 0s 18ms/step\n",
            "3125/3125 [==============================] - 5s 2ms/step\n",
            "1/1 [==============================] - 0s 25ms/step\n",
            "3125/3125 [==============================] - 5s 2ms/step\n",
            "1/1 [==============================] - 0s 17ms/step\n",
            "3125/3125 [==============================] - 5s 2ms/step\n",
            "1/1 [==============================] - 0s 18ms/step\n",
            "3125/3125 [==============================] - 5s 2ms/step\n",
            "1/1 [==============================] - 0s 19ms/step\n",
            "3125/3125 [==============================] - 5s 2ms/step\n",
            "1/1 [==============================] - 0s 17ms/step\n",
            "3125/3125 [==============================] - 5s 2ms/step\n",
            "1/1 [==============================] - 0s 17ms/step\n",
            "3125/3125 [==============================] - 5s 2ms/step\n",
            "1/1 [==============================] - 0s 19ms/step\n",
            "3125/3125 [==============================] - 5s 2ms/step\n",
            "1/1 [==============================] - 0s 17ms/step\n",
            "3125/3125 [==============================] - 5s 2ms/step\n",
            "1/1 [==============================] - 0s 18ms/step\n",
            "3125/3125 [==============================] - 5s 2ms/step\n",
            "1/1 [==============================] - 0s 18ms/step\n",
            "3125/3125 [==============================] - 5s 2ms/step\n",
            "1/1 [==============================] - 0s 18ms/step\n",
            "3125/3125 [==============================] - 5s 2ms/step\n",
            "1/1 [==============================] - 0s 24ms/step\n",
            "3125/3125 [==============================] - 5s 2ms/step\n",
            "1/1 [==============================] - 0s 18ms/step\n",
            "3125/3125 [==============================] - 5s 2ms/step\n",
            "1/1 [==============================] - 0s 19ms/step\n",
            "3125/3125 [==============================] - 5s 2ms/step\n",
            "1/1 [==============================] - 0s 20ms/step\n",
            "3125/3125 [==============================] - 5s 2ms/step\n",
            "1/1 [==============================] - 0s 21ms/step\n",
            "3125/3125 [==============================] - 5s 2ms/step\n",
            "1/1 [==============================] - 0s 19ms/step\n",
            "3125/3125 [==============================] - 5s 2ms/step\n",
            "1/1 [==============================] - 0s 18ms/step\n",
            "3125/3125 [==============================] - 5s 2ms/step\n",
            "1/1 [==============================] - 0s 19ms/step\n",
            "3125/3125 [==============================] - 5s 2ms/step\n",
            "1/1 [==============================] - 0s 20ms/step\n",
            "3125/3125 [==============================] - 5s 2ms/step\n",
            "1/1 [==============================] - 0s 19ms/step\n",
            "3125/3125 [==============================] - 5s 2ms/step\n",
            "1/1 [==============================] - 0s 18ms/step\n",
            "3125/3125 [==============================] - 5s 2ms/step\n",
            "1/1 [==============================] - 0s 20ms/step\n",
            "3125/3125 [==============================] - 6s 2ms/step\n",
            "1/1 [==============================] - 0s 19ms/step\n",
            "3125/3125 [==============================] - 5s 2ms/step\n",
            "1/1 [==============================] - 0s 21ms/step\n",
            "3125/3125 [==============================] - 5s 2ms/step\n",
            "1/1 [==============================] - 0s 23ms/step\n",
            "3125/3125 [==============================] - 5s 2ms/step\n",
            "1/1 [==============================] - 0s 24ms/step\n",
            "3125/3125 [==============================] - 6s 2ms/step\n",
            "1/1 [==============================] - 0s 21ms/step\n",
            "3125/3125 [==============================] - 6s 2ms/step\n",
            "1/1 [==============================] - 0s 26ms/step\n",
            "3125/3125 [==============================] - 5s 2ms/step\n",
            "1/1 [==============================] - 0s 19ms/step\n",
            "3125/3125 [==============================] - 5s 2ms/step\n",
            "1/1 [==============================] - 0s 30ms/step\n",
            "3125/3125 [==============================] - 7s 2ms/step\n",
            "1/1 [==============================] - 0s 20ms/step\n",
            "3125/3125 [==============================] - 5s 2ms/step\n",
            "1/1 [==============================] - 0s 20ms/step\n",
            "3125/3125 [==============================] - 5s 2ms/step\n",
            "1/1 [==============================] - 0s 18ms/step\n",
            "3125/3125 [==============================] - 5s 2ms/step\n",
            "1/1 [==============================] - 0s 20ms/step\n",
            "3125/3125 [==============================] - 5s 2ms/step\n",
            "1/1 [==============================] - 0s 20ms/step\n",
            "3125/3125 [==============================] - 5s 2ms/step\n",
            "1/1 [==============================] - 0s 18ms/step\n",
            "3125/3125 [==============================] - 5s 2ms/step\n",
            "1/1 [==============================] - 0s 19ms/step\n",
            "3125/3125 [==============================] - 5s 2ms/step\n",
            "1/1 [==============================] - 0s 20ms/step\n",
            "3125/3125 [==============================] - 5s 2ms/step\n",
            "1/1 [==============================] - 0s 20ms/step\n",
            "3125/3125 [==============================] - 5s 2ms/step\n",
            "1/1 [==============================] - 0s 18ms/step\n",
            "3125/3125 [==============================] - 5s 2ms/step\n",
            "1/1 [==============================] - 0s 18ms/step\n",
            "3125/3125 [==============================] - 5s 2ms/step\n"
          ]
        }
      ],
      "source": [
        "shap_values = explainer.shap_values(X_test_shap, nsamples=100)"
      ]
    },
    {
      "cell_type": "code",
      "execution_count": 41,
      "metadata": {
        "id": "5lVXpCDd8JgI"
      },
      "outputs": [],
      "source": [
        "# Storing features(variable) name\n",
        "features = X_train.columns"
      ]
    },
    {
      "cell_type": "code",
      "execution_count": 67,
      "metadata": {
        "colab": {
          "base_uri": "https://localhost:8080/",
          "height": 434
        },
        "id": "e_RuLhx_Bssu",
        "outputId": "e920d3bd-8260-4479-bcd8-f094bbf1b7e3"
      },
      "outputs": [
        {
          "data": {
            "image/png": "[encoded data removed]",
            "text/plain": [
              "<Figure size 576x424.8 with 1 Axes>"
            ]
          },
          "metadata": {
            "needs_background": "light"
          },
          "output_type": "display_data"
        }
      ],
      "source": [
        "# Plotting the feature importance\n",
        "shap.summary_plot(shap_values,X_test,feature_names=features, class_names=class_names)"
      ]
    }
  ],
  "metadata": {
    "accelerator": "GPU",
    "colab": {
      "collapsed_sections": [],
      "provenance": []
    },
    "gpuClass": "standard",
    "kernelspec": {
      "display_name": "Python 3.9.7 ('base')",
      "language": "python",
      "name": "python3"
    },
    "language_info": {
      "name": "python",
      "version": "3.9.7"
    },
    "vscode": {
      "interpreter": {
        "hash": "b605c9f44eedf5da3f1125dbd40ce03f187f0beb45a7a87b7456a43acc54d9bd"
      }
    },
    "widgets": {
      "application/vnd.jupyter.widget-state+json": {
        "017ad869a0814440af6006ae684d7d79": {
          "model_module": "@jupyter-widgets/controls",
          "model_module_version": "1.5.0",
          "model_name": "DescriptionStyleModel",
          "state": {
            "_model_module": "@jupyter-widgets/controls",
            "_model_module_version": "1.5.0",
            "_model_name": "DescriptionStyleModel",
            "_view_count": null,
            "_view_module": "@jupyter-widgets/base",
            "_view_module_version": "1.2.0",
            "_view_name": "StyleView",
            "description_width": ""
          }
        },
        "19021de58c334e7b818cfcf7b7ec53b1": {
          "model_module": "@jupyter-widgets/base",
          "model_module_version": "1.2.0",
          "model_name": "LayoutModel",
          "state": {
            "_model_module": "@jupyter-widgets/base",
            "_model_module_version": "1.2.0",
            "_model_name": "LayoutModel",
            "_view_count": null,
            "_view_module": "@jupyter-widgets/base",
            "_view_module_version": "1.2.0",
            "_view_name": "LayoutView",
            "align_content": null,
            "align_items": null,
            "align_self": null,
            "border": null,
            "bottom": null,
            "display": null,
            "flex": null,
            "flex_flow": null,
            "grid_area": null,
            "grid_auto_columns": null,
            "grid_auto_flow": null,
            "grid_auto_rows": null,
            "grid_column": null,
            "grid_gap": null,
            "grid_row": null,
            "grid_template_areas": null,
            "grid_template_columns": null,
            "grid_template_rows": null,
            "height": null,
            "justify_content": null,
            "justify_items": null,
            "left": null,
            "margin": null,
            "max_height": null,
            "max_width": null,
            "min_height": null,
            "min_width": null,
            "object_fit": null,
            "object_position": null,
            "order": null,
            "overflow": null,
            "overflow_x": null,
            "overflow_y": null,
            "padding": null,
            "right": null,
            "top": null,
            "visibility": null,
            "width": null
          }
        },
        "25799a015de94867b57edee4bd6b85a2": {
          "model_module": "@jupyter-widgets/base",
          "model_module_version": "1.2.0",
          "model_name": "LayoutModel",
          "state": {
            "_model_module": "@jupyter-widgets/base",
            "_model_module_version": "1.2.0",
            "_model_name": "LayoutModel",
            "_view_count": null,
            "_view_module": "@jupyter-widgets/base",
            "_view_module_version": "1.2.0",
            "_view_name": "LayoutView",
            "align_content": null,
            "align_items": null,
            "align_self": null,
            "border": null,
            "bottom": null,
            "display": null,
            "flex": null,
            "flex_flow": null,
            "grid_area": null,
            "grid_auto_columns": null,
            "grid_auto_flow": null,
            "grid_auto_rows": null,
            "grid_column": null,
            "grid_gap": null,
            "grid_row": null,
            "grid_template_areas": null,
            "grid_template_columns": null,
            "grid_template_rows": null,
            "height": null,
            "justify_content": null,
            "justify_items": null,
            "left": null,
            "margin": null,
            "max_height": null,
            "max_width": null,
            "min_height": null,
            "min_width": null,
            "object_fit": null,
            "object_position": null,
            "order": null,
            "overflow": null,
            "overflow_x": null,
            "overflow_y": null,
            "padding": null,
            "right": null,
            "top": null,
            "visibility": null,
            "width": null
          }
        },
        "2c0db75a78fe40a3bcefd5f7f6325233": {
          "model_module": "@jupyter-widgets/controls",
          "model_module_version": "1.5.0",
          "model_name": "HBoxModel",
          "state": {
            "_dom_classes": [],
            "_model_module": "@jupyter-widgets/controls",
            "_model_module_version": "1.5.0",
            "_model_name": "HBoxModel",
            "_view_count": null,
            "_view_module": "@jupyter-widgets/controls",
            "_view_module_version": "1.5.0",
            "_view_name": "HBoxView",
            "box_style": "",
            "children": [
              "IPY_MODEL_450d4a7e92b745b09af2ee82d6218cb0",
              "IPY_MODEL_54d845112d1242708cfc1d414df90c28",
              "IPY_MODEL_da42fb51b61d4d7f9ea57a016e4a8bf7"
            ],
            "layout": "IPY_MODEL_25799a015de94867b57edee4bd6b85a2"
          }
        },
        "450d4a7e92b745b09af2ee82d6218cb0": {
          "model_module": "@jupyter-widgets/controls",
          "model_module_version": "1.5.0",
          "model_name": "HTMLModel",
          "state": {
            "_dom_classes": [],
            "_model_module": "@jupyter-widgets/controls",
            "_model_module_version": "1.5.0",
            "_model_name": "HTMLModel",
            "_view_count": null,
            "_view_module": "@jupyter-widgets/controls",
            "_view_module_version": "1.5.0",
            "_view_name": "HTMLView",
            "description": "",
            "description_tooltip": null,
            "layout": "IPY_MODEL_fa8b7b34b6f94d5d9b9cab4b744c92dd",
            "placeholder": "​",
            "style": "IPY_MODEL_017ad869a0814440af6006ae684d7d79",
            "value": "100%"
          }
        },
        "54d845112d1242708cfc1d414df90c28": {
          "model_module": "@jupyter-widgets/controls",
          "model_module_version": "1.5.0",
          "model_name": "FloatProgressModel",
          "state": {
            "_dom_classes": [],
            "_model_module": "@jupyter-widgets/controls",
            "_model_module_version": "1.5.0",
            "_model_name": "FloatProgressModel",
            "_view_count": null,
            "_view_module": "@jupyter-widgets/controls",
            "_view_module_version": "1.5.0",
            "_view_name": "ProgressView",
            "bar_style": "success",
            "description": "",
            "description_tooltip": null,
            "layout": "IPY_MODEL_19021de58c334e7b818cfcf7b7ec53b1",
            "max": 100,
            "min": 0,
            "orientation": "horizontal",
            "style": "IPY_MODEL_654f6ab0cdb0473086b31724829c95f0",
            "value": 100
          }
        },
        "654f6ab0cdb0473086b31724829c95f0": {
          "model_module": "@jupyter-widgets/controls",
          "model_module_version": "1.5.0",
          "model_name": "ProgressStyleModel",
          "state": {
            "_model_module": "@jupyter-widgets/controls",
            "_model_module_version": "1.5.0",
            "_model_name": "ProgressStyleModel",
            "_view_count": null,
            "_view_module": "@jupyter-widgets/base",
            "_view_module_version": "1.2.0",
            "_view_name": "StyleView",
            "bar_color": null,
            "description_width": ""
          }
        },
        "9d6b83fe32914ec3bbfd399f56cce062": {
          "model_module": "@jupyter-widgets/base",
          "model_module_version": "1.2.0",
          "model_name": "LayoutModel",
          "state": {
            "_model_module": "@jupyter-widgets/base",
            "_model_module_version": "1.2.0",
            "_model_name": "LayoutModel",
            "_view_count": null,
            "_view_module": "@jupyter-widgets/base",
            "_view_module_version": "1.2.0",
            "_view_name": "LayoutView",
            "align_content": null,
            "align_items": null,
            "align_self": null,
            "border": null,
            "bottom": null,
            "display": null,
            "flex": null,
            "flex_flow": null,
            "grid_area": null,
            "grid_auto_columns": null,
            "grid_auto_flow": null,
            "grid_auto_rows": null,
            "grid_column": null,
            "grid_gap": null,
            "grid_row": null,
            "grid_template_areas": null,
            "grid_template_columns": null,
            "grid_template_rows": null,
            "height": null,
            "justify_content": null,
            "justify_items": null,
            "left": null,
            "margin": null,
            "max_height": null,
            "max_width": null,
            "min_height": null,
            "min_width": null,
            "object_fit": null,
            "object_position": null,
            "order": null,
            "overflow": null,
            "overflow_x": null,
            "overflow_y": null,
            "padding": null,
            "right": null,
            "top": null,
            "visibility": null,
            "width": null
          }
        },
        "b3b62f7c8ccd4c0c949a85401a4a55ac": {
          "model_module": "@jupyter-widgets/controls",
          "model_module_version": "1.5.0",
          "model_name": "DescriptionStyleModel",
          "state": {
            "_model_module": "@jupyter-widgets/controls",
            "_model_module_version": "1.5.0",
            "_model_name": "DescriptionStyleModel",
            "_view_count": null,
            "_view_module": "@jupyter-widgets/base",
            "_view_module_version": "1.2.0",
            "_view_name": "StyleView",
            "description_width": ""
          }
        },
        "da42fb51b61d4d7f9ea57a016e4a8bf7": {
          "model_module": "@jupyter-widgets/controls",
          "model_module_version": "1.5.0",
          "model_name": "HTMLModel",
          "state": {
            "_dom_classes": [],
            "_model_module": "@jupyter-widgets/controls",
            "_model_module_version": "1.5.0",
            "_model_name": "HTMLModel",
            "_view_count": null,
            "_view_module": "@jupyter-widgets/controls",
            "_view_module_version": "1.5.0",
            "_view_name": "HTMLView",
            "description": "",
            "description_tooltip": null,
            "layout": "IPY_MODEL_9d6b83fe32914ec3bbfd399f56cce062",
            "placeholder": "​",
            "style": "IPY_MODEL_b3b62f7c8ccd4c0c949a85401a4a55ac",
            "value": " 100/100 [14:50&lt;00:00, 10.19s/it]"
          }
        },
        "fa8b7b34b6f94d5d9b9cab4b744c92dd": {
          "model_module": "@jupyter-widgets/base",
          "model_module_version": "1.2.0",
          "model_name": "LayoutModel",
          "state": {
            "_model_module": "@jupyter-widgets/base",
            "_model_module_version": "1.2.0",
            "_model_name": "LayoutModel",
            "_view_count": null,
            "_view_module": "@jupyter-widgets/base",
            "_view_module_version": "1.2.0",
            "_view_name": "LayoutView",
            "align_content": null,
            "align_items": null,
            "align_self": null,
            "border": null,
            "bottom": null,
            "display": null,
            "flex": null,
            "flex_flow": null,
            "grid_area": null,
            "grid_auto_columns": null,
            "grid_auto_flow": null,
            "grid_auto_rows": null,
            "grid_column": null,
            "grid_gap": null,
            "grid_row": null,
            "grid_template_areas": null,
            "grid_template_columns": null,
            "grid_template_rows": null,
            "height": null,
            "justify_content": null,
            "justify_items": null,
            "left": null,
            "margin": null,
            "max_height": null,
            "max_width": null,
            "min_height": null,
            "min_width": null,
            "object_fit": null,
            "object_position": null,
            "order": null,
            "overflow": null,
            "overflow_x": null,
            "overflow_y": null,
            "padding": null,
            "right": null,
            "top": null,
            "visibility": null,
            "width": null
          }
        }
      }
    }
  },
  "nbformat": 4,
  "nbformat_minor": 0
}
